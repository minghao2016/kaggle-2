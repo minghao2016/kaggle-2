{
 "cells": [
  {
   "cell_type": "code",
   "execution_count": 322,
   "metadata": {},
   "outputs": [],
   "source": [
    "import pandas as pd\n",
    "import numpy as np\n",
    "\n",
    "import matplotlib.pyplot as plt\n",
    "import seaborn as sns\n",
    "%matplotlib inline\n",
    "\n",
    "from scipy.stats import norm, skew\n",
    "\n",
    "from sklearn.model_selection import train_test_split\n",
    "from sklearn.model_selection import cross_val_score\n",
    "from sklearn.model_selection import GridSearchCV\n",
    "\n",
    "from sklearn.metrics import mean_absolute_error\n",
    "\n",
    "from sklearn.impute import SimpleImputer\n",
    "from sklearn.preprocessing import OneHotEncoder\n",
    "\n",
    "from sklearn.compose import ColumnTransformer\n",
    "from sklearn.pipeline import Pipeline\n",
    "\n",
    "from xgboost import XGBRegressor\n",
    "import lightgbm as lgb \n",
    "\n",
    "from scipy.special import boxcox1p\n",
    "\n",
    "\n",
    "import warnings\n",
    "def ignore_warnings(*args, **kwargs):\n",
    "    pass\n",
    "warnings.warn = ignore_warnings"
   ]
  },
  {
   "cell_type": "code",
   "execution_count": 323,
   "metadata": {},
   "outputs": [],
   "source": [
    "X_full = pd.read_csv(\"data/train.csv\", index_col=\"Id\")\n",
    "X_test = pd.read_csv(\"data/test.csv\", index_col=\"Id\")\n",
    "\n",
    "X=X_full.copy()\n",
    "\n",
    "X.dropna(axis=0, subset=[\"SalePrice\"], inplace=True)\n"
   ]
  },
  {
   "cell_type": "code",
   "execution_count": 324,
   "metadata": {},
   "outputs": [
    {
     "data": {
      "image/png": "[encoded data removed]",
      "text/plain": [
       "<Figure size 432x288 with 1 Axes>"
      ]
     },
     "metadata": {
      "needs_background": "light"
     },
     "output_type": "display_data"
    }
   ],
   "source": [
    "# remove outliers\n",
    "\n",
    "sns.distplot(X.GrLivArea)\n",
    "\n",
    "X = X[X.GrLivArea < 4500]"
   ]
  },
  {
   "cell_type": "code",
   "execution_count": 325,
   "metadata": {},
   "outputs": [],
   "source": [
    "y = X.SalePrice\n",
    "X.drop([\"SalePrice\"], axis=1, inplace=True)"
   ]
  },
  {
   "cell_type": "code",
   "execution_count": 326,
   "metadata": {},
   "outputs": [],
   "source": [
    "\n",
    "test = pd.concat([X, X_test])"
   ]
  },
  {
   "cell_type": "code",
   "execution_count": null,
   "metadata": {},
   "outputs": [],
   "source": []
  },
  {
   "cell_type": "markdown",
   "metadata": {},
   "source": [
    "# Preprocessing"
   ]
  },
  {
   "cell_type": "code",
   "execution_count": 327,
   "metadata": {},
   "outputs": [],
   "source": [
    "def preprocess(X):\n",
    "    \n",
    "    ########################################################################################\n",
    "    #                                                                                      #\n",
    "    #                                                                                      #\n",
    "    #                                   NA Imputation                                      #\n",
    "    #                                                                                      #\n",
    "    #                                                                                      #\n",
    "    ########################################################################################\n",
    "    \n",
    "    \n",
    "    # Numeric\n",
    "\n",
    "    X[\"LotFrontage\"] = X.groupby(\"Neighborhood\")[\"LotFrontage\"].transform(lambda x: x.fillna(x.mode()[0]))\n",
    "\n",
    "    X[\"MasVnrArea\"] = X[\"MasVnrArea\"].fillna(0)\n",
    "    X[\"GarageYrBlt\"] = X[\"GarageYrBlt\"].fillna(0)\n",
    "    \n",
    "    # Categorical\n",
    "\n",
    "    X[\"Electrical\"] = X[\"Electrical\"].fillna(X[\"Electrical\"].mode()[0])\n",
    "\n",
    "    unknown_cols = ['Alley','MasVnrType', 'FireplaceQu', 'GarageType',\n",
    "                 'GarageFinish','GarageQual','GarageCond','PoolQC','Fence','MiscFeature']\n",
    "\n",
    "    bsmnt_cols = ['BsmtQual', 'BsmtCond', 'BsmtExposure', 'BsmtFinType1', 'BsmtFinType2']\n",
    "\n",
    "    for col in unknown_cols:\n",
    "        X[col] = X[col].fillna(\"Unknown\")\n",
    "\n",
    "    for col in bsmnt_cols:\n",
    "        X[col] = X[col].fillna(\"None\")\n",
    "        \n",
    "        \n",
    "    ########################################################################################\n",
    "    #                                                                                      #\n",
    "    #                                                                                      #\n",
    "    #                               Feature Engineering                                    #\n",
    "    #                                                                                      #\n",
    "    #                                                                                      #\n",
    "    ########################################################################################\n",
    "    \n",
    "    \n",
    "    # Convert some numeric features into cat\n",
    "    X[\"MSSubClass\"] = X[\"MSSubClass\"].apply(str)\n",
    "    X[\"YrSold\"] = X[\"YrSold\"].apply(str)\n",
    "    X[\"MoSold\"] = X[\"MoSold\"].apply(str)\n",
    "\n",
    "    # Creating some new features\n",
    "\n",
    "    X[\"Surface\"] = X['TotalBsmtSF'] + X['1stFlrSF'] + X['2ndFlrSF']\n",
    "\n",
    "    X[\"SqFootage\"] = X['BsmtFinSF1'] + X['BsmtFinSF2'] + X['1stFlrSF'] + X['2ndFlrSF']\n",
    "\n",
    "    X[\"Bathrooms\"] = (X['FullBath'] + (0.5 * X['HalfBath']) +\n",
    "                      X['BsmtFullBath'] + (0.5 * X['BsmtHalfBath']))\n",
    "\n",
    "    X[\"Porches\"]   = (X['OpenPorchSF'] + X['3SsnPorch'] +\n",
    "                      X['EnclosedPorch'] + X['ScreenPorch'] +\n",
    "                      X['WoodDeckSF'])\n",
    "\n",
    "    # Simplifying\n",
    "\n",
    "    X[\"HasPool\"] = X[\"PoolArea\"].apply(lambda x: 1 if x > 0 else 0)\n",
    "    X[\"Has2ndFloor\"] = X[\"2ndFlrSF\"].apply(lambda x: 1 if x > 0 else 0)\n",
    "    X[\"HasGarage\"] = X[\"GarageArea\"].apply(lambda x: 1 if x > 0 else 0)\n",
    "    X[\"HasBasement\"] = X[\"TotalBsmtSF\"].apply(lambda x: 1 if x > 0 else 0)\n",
    "    X[\"HasFireplace\"] = X[\"Fireplaces\"].apply(lambda x: 1 if x > 0 else 0)\n",
    "    \n",
    "    \n",
    "    ########################################################################################\n",
    "    #                                                                                      #\n",
    "    #                                                                                      #\n",
    "    #                                       Skewness                                       #\n",
    "    #                                                                                      #\n",
    "    #                                                                                      #\n",
    "    ########################################################################################\n",
    "    \n",
    "    numeric_cols = [col for col in X.columns if X[col].dtype != \"object\"]\n",
    "    skewness = X[numeric_cols].apply(lambda x: skew(x.dropna()))\n",
    "    skewness = pd.DataFrame({'Skew': skewness})\n",
    "    skewness = skewness[abs(skewness) > 0.5]\n",
    "    \n",
    "    lam = 0.15\n",
    "    \n",
    "    for col in skewness.index:\n",
    "        X[col] = boxcox1p(X[col], lam)\n",
    "        \n",
    "        \n",
    "    \n",
    "    # Dummy Variables\n",
    "        \n",
    "    X = pd.get_dummies(X)\n",
    "    \n",
    "    return X"
   ]
  },
  {
   "cell_type": "code",
   "execution_count": 328,
   "metadata": {},
   "outputs": [],
   "source": [
    "test_pr = preprocess(test)\n",
    "\n",
    "X_pr = test_pr.loc[X.index,:]\n",
    "X_test_pr = test_pr.loc[X_test.index,:]"
   ]
  },
  {
   "cell_type": "code",
   "execution_count": 329,
   "metadata": {},
   "outputs": [],
   "source": [
    "#X_pr = preprocess(X)\n",
    "#X_test_pr = preprocess(X_test)\n",
    "\n",
    "X_train, X_valid, y_train, y_valid = train_test_split(X_pr, y, train_size=0.8, test_size=0.2)"
   ]
  },
  {
   "cell_type": "code",
   "execution_count": 268,
   "metadata": {},
   "outputs": [
    {
     "data": {
      "text/plain": [
       "[]"
      ]
     },
     "execution_count": 268,
     "metadata": {},
     "output_type": "execute_result"
    }
   ],
   "source": [
    "cols = [col for col in X_pr.columns if col not in X_test_pr.columns]\n",
    "\n",
    "cols"
   ]
  },
  {
   "cell_type": "code",
   "execution_count": 246,
   "metadata": {},
   "outputs": [],
   "source": [
    "#X_test_pr.drop(['MSSubClass_150'], axis=1, inplace=True)"
   ]
  },
  {
   "cell_type": "code",
   "execution_count": 330,
   "metadata": {},
   "outputs": [],
   "source": [
    "model = XGBRegressor(n_estimators = 3500, learning_rate=0.01, max_depth=3, min_child_weight=0,\n",
    "                       gamma=0, subsample=0.7,\n",
    "                       colsample_bytree=0.7,\n",
    "                       objective='reg:linear', nthread=-1,\n",
    "                       scale_pos_weight=1, seed=27,\n",
    "                       reg_alpha=0.00006)"
   ]
  },
  {
   "cell_type": "code",
   "execution_count": 331,
   "metadata": {},
   "outputs": [
    {
     "data": {
      "text/plain": [
       "XGBRegressor(base_score=0.5, booster='gbtree', colsample_bylevel=1,\n",
       "             colsample_bytree=0.7, gamma=0, learning_rate=0.01,\n",
       "             max_delta_step=0, max_depth=3, min_child_weight=0, missing=None,\n",
       "             n_estimators=3500, n_jobs=1, nthread=-1, objective='reg:linear',\n",
       "             random_state=0, reg_alpha=6e-05, reg_lambda=1, scale_pos_weight=1,\n",
       "             seed=27, silent=True, subsample=0.7)"
      ]
     },
     "execution_count": 331,
     "metadata": {},
     "output_type": "execute_result"
    }
   ],
   "source": [
    "model.fit(X_train, y_train)"
   ]
  },
  {
   "cell_type": "code",
   "execution_count": 332,
   "metadata": {},
   "outputs": [],
   "source": [
    "preds = model.predict(X_valid)"
   ]
  },
  {
   "cell_type": "code",
   "execution_count": 296,
   "metadata": {},
   "outputs": [
    {
     "data": {
      "text/plain": [
       "11745.971091074487"
      ]
     },
     "execution_count": 296,
     "metadata": {},
     "output_type": "execute_result"
    }
   ],
   "source": [
    "mean_absolute_error(y_valid, preds)"
   ]
  },
  {
   "cell_type": "code",
   "execution_count": 283,
   "metadata": {},
   "outputs": [],
   "source": [
    "scores = -1* cross_val_score(model, X_train, y_train, cv=5, scoring=\"neg_mean_absolute_error\")"
   ]
  },
  {
   "cell_type": "code",
   "execution_count": 291,
   "metadata": {},
   "outputs": [
    {
     "data": {
      "text/plain": [
       "15062.488878901519"
      ]
     },
     "execution_count": 291,
     "metadata": {},
     "output_type": "execute_result"
    }
   ],
   "source": [
    "scores.mean()"
   ]
  },
  {
   "cell_type": "code",
   "execution_count": 336,
   "metadata": {},
   "outputs": [],
   "source": [
    "test_preds = model.predict(X_test_pr)"
   ]
  },
  {
   "cell_type": "code",
   "execution_count": 337,
   "metadata": {},
   "outputs": [],
   "source": [
    "output = pd.DataFrame({\n",
    "        \"Id\":X_test.index, \"SalePrice\":test_preds\n",
    "})\n",
    "\n",
    "output.to_csv(\"output/submission.csv\", index=False)"
   ]
  },
  {
   "cell_type": "code",
   "execution_count": 300,
   "metadata": {},
   "outputs": [],
   "source": [
    "## Skewed data"
   ]
  },
  {
   "cell_type": "code",
   "execution_count": 301,
   "metadata": {},
   "outputs": [],
   "source": [
    "numeric_cols = [col for col in X.columns if X[col].dtype != \"object\"]"
   ]
  },
  {
   "cell_type": "code",
   "execution_count": 303,
   "metadata": {},
   "outputs": [],
   "source": [
    "skewness = X[numeric_cols].apply(lambda x: skew(x.dropna())).sort_values(ascending=False)"
   ]
  },
  {
   "cell_type": "code",
   "execution_count": 305,
   "metadata": {},
   "outputs": [],
   "source": [
    "skewness = pd.DataFrame({'Skew': skewness})"
   ]
  },
  {
   "cell_type": "code",
   "execution_count": 307,
   "metadata": {},
   "outputs": [],
   "source": [
    "skew = skewness[abs(skewness) > 0.5]"
   ]
  },
  {
   "cell_type": "code",
   "execution_count": 311,
   "metadata": {},
   "outputs": [],
   "source": [
    "\n",
    "lam = 0.15"
   ]
  },
  {
   "cell_type": "code",
   "execution_count": 312,
   "metadata": {},
   "outputs": [],
   "source": [
    "for col in skew.index:\n",
    "    X[col] = boxcox1p(X[col], lam)"
   ]
  },
  {
   "cell_type": "code",
   "execution_count": 333,
   "metadata": {},
   "outputs": [
    {
     "data": {
      "text/plain": [
       "13408.445740582192"
      ]
     },
     "execution_count": 333,
     "metadata": {},
     "output_type": "execute_result"
    }
   ],
   "source": [
    "mean_absolute_error(y_valid, preds)"
   ]
  },
  {
   "cell_type": "code",
   "execution_count": 334,
   "metadata": {},
   "outputs": [],
   "source": [
    "scores = -1* cross_val_score(model, X_train, y_train, cv=5, scoring=\"neg_mean_absolute_error\")"
   ]
  },
  {
   "cell_type": "code",
   "execution_count": 335,
   "metadata": {},
   "outputs": [
    {
     "data": {
      "text/plain": [
       "14051.625048288994"
      ]
     },
     "execution_count": 335,
     "metadata": {},
     "output_type": "execute_result"
    }
   ],
   "source": [
    "scores.mean()"
   ]
  },
  {
   "cell_type": "code",
   "execution_count": null,
   "metadata": {},
   "outputs": [],
   "source": []
  }
 ],
 "metadata": {
  "kernelspec": {
   "display_name": "Python 3",
   "language": "python",
   "name": "python3"
  },
  "language_info": {
   "codemirror_mode": {
    "name": "ipython",
    "version": 3
   },
   "file_extension": ".py",
   "mimetype": "text/x-python",
   "name": "python",
   "nbconvert_exporter": "python",
   "pygments_lexer": "ipython3",
   "version": "3.6.8"
  }
 },
 "nbformat": 4,
 "nbformat_minor": 2
}
